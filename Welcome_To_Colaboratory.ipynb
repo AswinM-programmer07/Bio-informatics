{
  "cells": [
    {
      "cell_type": "markdown",
      "metadata": {
        "id": "view-in-github",
        "colab_type": "text"
      },
      "source": [
        "<a href=\"https://colab.research.google.com/github/AswinM-programmer07/Bio-informatics/blob/main/Welcome_To_Colaboratory.ipynb\" target=\"_parent\"><img src=\"https://colab.research.google.com/assets/colab-badge.svg\" alt=\"Open In Colab\"/></a>"
      ]
    },
    {
      "cell_type": "markdown",
      "source": [
        "pandas series\n"
      ],
      "metadata": {
        "id": "eI0eJ3wojAus"
      }
    },
    {
      "cell_type": "code",
      "source": [
        "import pandas as pd\n",
        "import numpy as np\n",
        "g7_pop = pd.Series([30.2, 42.2, 54.7, 12.9])\n",
        "g7_pop"
      ],
      "metadata": {
        "id": "kUqUTm7IjFHQ",
        "outputId": "7bd7284e-edde-4c9b-abca-eda9e4927037",
        "colab": {
          "base_uri": "https://localhost:8080/"
        }
      },
      "execution_count": 1,
      "outputs": [
        {
          "output_type": "execute_result",
          "data": {
            "text/plain": [
              "0    30.2\n",
              "1    42.2\n",
              "2    54.7\n",
              "3    12.9\n",
              "dtype: float64"
            ]
          },
          "metadata": {},
          "execution_count": 1
        }
      ]
    },
    {
      "cell_type": "code",
      "source": [
        "import pandas as pd\n",
        "import numpy as np\n",
        "g7_pop.dtype\n",
        "g7_pop.values\n",
        "type(g7_pop.values)\n",
        "g7_pop[2]\n",
        "g7_pop.index\n",
        "g7_pop.index=[\n",
        "    'Canada',\n",
        "    'france',\n",
        "    'germany',\n",
        "    'italy'\n",
        "]\n",
        "g7_pop"
      ],
      "metadata": {
        "id": "W9aMKW-Bk9H_",
        "outputId": "d999e218-99e8-44b3-c712-6cba1dcf125c",
        "colab": {
          "base_uri": "https://localhost:8080/"
        }
      },
      "execution_count": 14,
      "outputs": [
        {
          "output_type": "execute_result",
          "data": {
            "text/plain": [
              "Canada     30.2\n",
              "france     42.2\n",
              "germany    54.7\n",
              "italy      12.9\n",
              "dtype: float64"
            ]
          },
          "metadata": {},
          "execution_count": 14
        }
      ]
    },
    {
      "cell_type": "code",
      "source": [
        "import pandas as pd\n",
        "pd.Series({\n",
        "    'canada': 23.234,\n",
        "    'france': 324.34,\n",
        "    'germany':43.544,\n",
        "},name = \"g7_population\")"
      ],
      "metadata": {
        "id": "SI_90Y7anoiu",
        "outputId": "cbe3ac74-46a4-4085-a673-269145c6cf10",
        "colab": {
          "base_uri": "https://localhost:8080/"
        }
      },
      "execution_count": 24,
      "outputs": [
        {
          "output_type": "execute_result",
          "data": {
            "text/plain": [
              "canada      23.234\n",
              "france     324.340\n",
              "germany     43.544\n",
              "Name: g7_population, dtype: float64"
            ]
          },
          "metadata": {},
          "execution_count": 24
        }
      ]
    }
  ],
  "metadata": {
    "colab": {
      "name": "Welcome To Colaboratory",
      "provenance": [],
      "include_colab_link": true
    },
    "kernelspec": {
      "display_name": "Python 3",
      "name": "python3"
    }
  },
  "nbformat": 4,
  "nbformat_minor": 0
}